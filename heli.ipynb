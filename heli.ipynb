{
 "cells": [
  {
   "cell_type": "code",
   "execution_count": 53,
   "metadata": {},
   "outputs": [],
   "source": [
    "import theano\n",
    "import keras\n",
    "from keras.models import Sequential, load_model\n",
    "from keras.layers import Dense\n",
    "from keras.optimizers import Adam\n",
    "from ple.games.pixelcopter import Pixelcopter\n",
    "from ple import PLE\n",
    "import pygame\n",
    "import numpy as np\n",
    "import time\n",
    "from IPython.display import clear_output\n",
    "import random\n",
    "import matplotlib.pyplot as plt\n",
    "import datetime\n",
    "\n",
    "# model = Sequential()\n",
    "# model.add(Dense(20, input_dim=5, activation=\"relu\"))\n",
    "# model.add(Dense(10, activation=\"relu\"))\n",
    "# model.add(Dense(2, activation=\"linear\"))\n",
    "# adam = Adam(lr=0.0001)\n",
    "# model.compile(loss='mse', optimizer=adam)\n",
    "\n",
    "model = load_model(\"w_2018-08-16_00_28_10.496731.h5py\")"
   ]
  },
  {
   "cell_type": "code",
   "execution_count": 60,
   "metadata": {},
   "outputs": [],
   "source": [
    "game = Pixelcopter(width=256, height=256)\n",
    "p = PLE(game, fps=400, display_screen=False)\n",
    "\n",
    "reward = 0.0\n",
    "p.init()\n",
    "#game.screen = pygame.display.set_mode(game.getScreenDims(), 0, 32)\n",
    "#game.clock = pygame.time.Clock()\n",
    "count = 0\n",
    "\n",
    "epochs = 10000\n",
    "rewards = np.zeros((1,epochs))[0]\n",
    "gamma = 0.95 #since it may take several moves to goal, making gamma high\n",
    "epsilon = 0.1\n",
    "batchSize = 1000\n",
    "buffer = 2000\n",
    "replay = []\n",
    "i = 0\n",
    "h = 0"
   ]
  },
  {
   "cell_type": "code",
   "execution_count": null,
   "metadata": {},
   "outputs": [
    {
     "name": "stdout",
     "output_type": "stream",
     "text": [
      "Epoch 1/1\n",
      "1000/1000 [==============================] - 0s 3us/step - loss: 0.1334\n",
      "33\n"
     ]
    }
   ],
   "source": [
    "j = 0\n",
    "for i in range(epochs):\n",
    "    \n",
    "    p.reset_game()\n",
    "    \n",
    "    while (not p.game_over()):\n",
    "        state = game.getGameState()\n",
    "        stateLst = np.array([[state[k] for k in state]])\n",
    "        qval = model.predict(stateLst)\n",
    "        if (random.random() < epsilon):\n",
    "            action = np.random.randint(0,2)\n",
    "            print(\"here \", action)\n",
    "        else:\n",
    "            action = np.argmax(qval)\n",
    "            \n",
    "        actionList = p.getActionSet()\n",
    "        if j < 50:\n",
    "            p.act(actionList[1])\n",
    "            reward = p.act(actionList[action])\n",
    "            j += 1\n",
    "        else:\n",
    "            reward = p.act(actionList[action])\n",
    "\n",
    "        newState = game.getGameState()\n",
    "        newStateLst = np.array([[newState[k] for k in state]])\n",
    "\n",
    "        if (len(replay) < buffer):\n",
    "            replay.append((stateLst, action, reward, newStateLst))\n",
    "        else:\n",
    "            if h < buffer-1:\n",
    "                h += 1\n",
    "            else:\n",
    "                h = 0\n",
    "            replay[h] = (stateLst, action, reward, newStateLst)\n",
    "            minibatch = random.sample(replay, batchSize)\n",
    "            X_train = np.empty((0,5))\n",
    "            y_train = np.empty((0,2))\n",
    "\n",
    "            for memory in minibatch:\n",
    "                old_state, action, reward, new_state = memory\n",
    "                oldQ = model.predict(old_state)\n",
    "                newQ = model.predict(newStateLst)\n",
    "                maxQ = np.max(newQ)\n",
    "\n",
    "                if p.game_over():\n",
    "                    update = reward\n",
    "                else:\n",
    "                    update = reward + (gamma * maxQ)\n",
    "                y = np.copy(oldQ)\n",
    "                y[0][action] = update\n",
    "                X_train = np.append(X_train, old_state, axis=0)\n",
    "                y_train = np.append(y_train, y, axis=0)\n",
    "\n",
    "            model.fit(X_train, y_train, batch_size=batchSize)\n",
    "\n",
    "        pygame.display.update()\n",
    "        print(i)\n",
    "        clear_output(wait=True)\n",
    "    \n",
    "    \n",
    "    rewards[i] = p.score()\n",
    "    i += 1\n",
    "    if epsilon > 0.0001: #decrement epsilon over time\n",
    "        epsilon -= (1/epochs)\n",
    "    \n",
    "    if i % 5000 == 0:    \n",
    "        f = \"w_\" + str(datetime.datetime.now()).replace(\" \", \"_\").replace(\":\", \"_\") + \".h5py\"\n",
    "        model.save(f)"
   ]
  },
  {
   "cell_type": "code",
   "execution_count": 71,
   "metadata": {},
   "outputs": [
    {
     "ename": "KeyboardInterrupt",
     "evalue": "",
     "output_type": "error",
     "traceback": [
      "\u001b[1;31m---------------------------------------------------------------------------\u001b[0m",
      "\u001b[1;31mKeyboardInterrupt\u001b[0m                         Traceback (most recent call last)",
      "\u001b[1;32m<ipython-input-71-f2d2b4e03c7c>\u001b[0m in \u001b[0;36m<module>\u001b[1;34m()\u001b[0m\n\u001b[0;32m     26\u001b[0m         \u001b[0mi\u001b[0m \u001b[1;33m+=\u001b[0m \u001b[1;36m1\u001b[0m\u001b[1;33m\u001b[0m\u001b[0m\n\u001b[0;32m     27\u001b[0m \u001b[1;33m\u001b[0m\u001b[0m\n\u001b[1;32m---> 28\u001b[1;33m \u001b[0mtestAgent\u001b[0m\u001b[1;33m(\u001b[0m\u001b[1;36m1000\u001b[0m\u001b[1;33m)\u001b[0m\u001b[1;33m\u001b[0m\u001b[0m\n\u001b[0m",
      "\u001b[1;32m<ipython-input-71-f2d2b4e03c7c>\u001b[0m in \u001b[0;36mtestAgent\u001b[1;34m(epochs)\u001b[0m\n\u001b[0;32m     22\u001b[0m \u001b[1;33m\u001b[0m\u001b[0m\n\u001b[0;32m     23\u001b[0m             \u001b[0mpygame\u001b[0m\u001b[1;33m.\u001b[0m\u001b[0mdisplay\u001b[0m\u001b[1;33m.\u001b[0m\u001b[0mupdate\u001b[0m\u001b[1;33m(\u001b[0m\u001b[1;33m)\u001b[0m\u001b[1;33m\u001b[0m\u001b[0m\n\u001b[1;32m---> 24\u001b[1;33m             \u001b[0mj\u001b[0m \u001b[1;33m+=\u001b[0m \u001b[1;36m1\u001b[0m\u001b[1;33m\u001b[0m\u001b[0m\n\u001b[0m\u001b[0;32m     25\u001b[0m         \u001b[0mj\u001b[0m \u001b[1;33m=\u001b[0m \u001b[1;36m0\u001b[0m\u001b[1;33m\u001b[0m\u001b[0m\n\u001b[0;32m     26\u001b[0m         \u001b[0mi\u001b[0m \u001b[1;33m+=\u001b[0m \u001b[1;36m1\u001b[0m\u001b[1;33m\u001b[0m\u001b[0m\n",
      "\u001b[1;31mKeyboardInterrupt\u001b[0m: "
     ]
    }
   ],
   "source": [
    "def testAgent(epochs):\n",
    "    p.init()\n",
    "    game.screen = pygame.display.set_mode(game.getScreenDims(), 0, 32)\n",
    "    game.clock = pygame.time.Clock()\n",
    "    i = 0\n",
    "    j = 0\n",
    "    while (i < epochs):\n",
    "    \n",
    "        p.reset_game()\n",
    "\n",
    "        while (not p.game_over()):\n",
    "            \n",
    "            state = game.getGameState()\n",
    "            stateLst = np.array([[state[k] for k in state]])\n",
    "            qval = model.predict(stateLst)\n",
    "            action = np.argmax(qval)\n",
    "            actionList = p.getActionSet()\n",
    "            if j < 50:\n",
    "                p.act(actionList[1])\n",
    "            else:\n",
    "                reward = p.act(actionList[action])\n",
    "                 \n",
    "            pygame.display.update()\n",
    "            j += 1\n",
    "        j = 0\n",
    "        i += 1\n",
    "\n",
    "testAgent(1000)"
   ]
  },
  {
   "cell_type": "code",
   "execution_count": null,
   "metadata": {},
   "outputs": [],
   "source": [
    "print(epsilon, i)"
   ]
  },
  {
   "cell_type": "code",
   "execution_count": 38,
   "metadata": {},
   "outputs": [
    {
     "data": {
      "image/png": "[encoded data removed]",
      "text/plain": [
       "<Figure size 432x288 with 1 Axes>"
      ]
     },
     "metadata": {},
     "output_type": "display_data"
    }
   ],
   "source": [
    "plt.plot(np.arange(epochs), rewards)\n",
    "plt.show()"
   ]
  },
  {
   "cell_type": "code",
   "execution_count": 1,
   "metadata": {},
   "outputs": [
    {
     "ename": "NameError",
     "evalue": "name 'plt' is not defined",
     "output_type": "error",
     "traceback": [
      "\u001b[0;31m---------------------------------------------------------------------------\u001b[0m",
      "\u001b[0;31mNameError\u001b[0m                                 Traceback (most recent call last)",
      "\u001b[0;32m<ipython-input-1-d4cfe016739e>\u001b[0m in \u001b[0;36m<module>\u001b[0;34m()\u001b[0m\n\u001b[0;32m----> 1\u001b[0;31m \u001b[0mplt\u001b[0m\u001b[0;34m.\u001b[0m\u001b[0mscatter\u001b[0m\u001b[0;34m(\u001b[0m\u001b[0mnp\u001b[0m\u001b[0;34m.\u001b[0m\u001b[0marange\u001b[0m\u001b[0;34m(\u001b[0m\u001b[0mepochs\u001b[0m\u001b[0;34m)\u001b[0m\u001b[0;34m,\u001b[0m \u001b[0mrewards\u001b[0m\u001b[0;34m)\u001b[0m\u001b[0;34m\u001b[0m\u001b[0m\n\u001b[0m\u001b[1;32m      2\u001b[0m \u001b[0mplt\u001b[0m\u001b[0;34m.\u001b[0m\u001b[0mshow\u001b[0m\u001b[0;34m(\u001b[0m\u001b[0;34m)\u001b[0m\u001b[0;34m\u001b[0m\u001b[0m\n",
      "\u001b[0;31mNameError\u001b[0m: name 'plt' is not defined"
     ]
    }
   ],
   "source": [
    "plt.scatter(np.arange(epochs), rewards)\n",
    "plt.show()"
   ]
  },
  {
   "cell_type": "code",
   "execution_count": 40,
   "metadata": {},
   "outputs": [],
   "source": [
    "f = \"w_\" + str(datetime.datetime.now()).replace(\" \", \"_\").replace(\":\", \"_\") + \".h5py\"\n",
    "model.save(f)"
   ]
  },
  {
   "cell_type": "code",
   "execution_count": null,
   "metadata": {},
   "outputs": [],
   "source": []
  }
 ],
 "metadata": {
  "kernelspec": {
   "display_name": "Python 3",
   "language": "python",
   "name": "python3"
  },
  "language_info": {
   "codemirror_mode": {
    "name": "ipython",
    "version": 3
   },
   "file_extension": ".py",
   "mimetype": "text/x-python",
   "name": "python",
   "nbconvert_exporter": "python",
   "pygments_lexer": "ipython3",
   "version": "3.6.5"
  }
 },
 "nbformat": 4,
 "nbformat_minor": 2
}
